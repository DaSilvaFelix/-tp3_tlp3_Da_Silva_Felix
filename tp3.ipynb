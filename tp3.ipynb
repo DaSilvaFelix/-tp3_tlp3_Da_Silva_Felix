{
 "cells": [
  {
   "cell_type": "markdown",
   "id": "498731c6",
   "metadata": {},
   "source": [
    "# Trabajo Practico n3 - Trabajando con Lists y Sets.\n",
    "## Criterios de evaluación.\n",
    "\n",
    "* Se deben utilizar nombres de variables descriptivos y claros (Utilizar la nomeclatura correspondiente para los nombres de variables).\n",
    "* Comentarios claros y concisos que expliquen el propósito de cada sección del código.\n",
    "* Utilizar mensajes de commit **descriptivos**. (Puedes utilizar la extension CONVENTIONAL COMMIT de VS-CODE). \n",
    "* Entrega en tiempo y forma.\n",
    "* Todo el código desarrollado debe ser subido a un repositorio en GitHub (el nombre del repositorio de seguir la siguiente estructura: tp3_tlp3_nombre_apellido).\n",
    "* Para resolver las actividades se debe insertar casillas de codigo entre cada actividad del cuaderno de Jupyter\n",
    "* El repositorio de GitHub debe incluir un archivo README.md con las instrucciones necesarias para la correcta ejecución del código.\n",
    "\n",
    "### ¡Importante!\n",
    "**El incumplimiento de los criterios de evaluación restará puntos en la nota final del práctico!**"
   ]
  },
  {
   "cell_type": "markdown",
   "id": "b361a7b6",
   "metadata": {},
   "source": [
    "### Actividad 1: \n",
    "Suma de todos los elementos de una lista, utilizando bucles repetitivos (for, while)."
   ]
  },
  {
   "cell_type": "code",
   "execution_count": 8,
   "id": "26009294",
   "metadata": {},
   "outputs": [
    {
     "name": "stdout",
     "output_type": "stream",
     "text": [
      "suma con for 204\n",
      "suma con while 204\n"
     ]
    }
   ],
   "source": [
    "\n",
    "# todo:\n",
    "\n",
    "numbers = [14, 23, 34, 48, 85]\n",
    "\n",
    "suma = 0\n",
    "\n",
    "for i in numbers:\n",
    "    suma += i\n",
    "print('suma con for',suma)\n",
    "\n",
    "suma_con_while = 0\n",
    "\n",
    "j = 0\n",
    "while j < len(numbers):\n",
    "     suma_con_while += numbers[j]\n",
    "     j += 1\n",
    "print('suma con while', suma_con_while)"
   ]
  },
  {
   "cell_type": "markdown",
   "id": "0c239195",
   "metadata": {},
   "source": [
    "### Actividad 2: \n",
    "Encontrar el número más grande en una lista, utilizando bucles repetitivos (for, while)."
   ]
  },
  {
   "cell_type": "code",
   "execution_count": 20,
   "id": "3611d25a",
   "metadata": {},
   "outputs": [
    {
     "name": "stdout",
     "output_type": "stream",
     "text": [
      "valor 83\n",
      "valor 64\n",
      "valor 62\n",
      "valor 55\n",
      "valor 56\n",
      "mayor valor con for 84\n",
      "valor 83\n",
      "valor 64\n",
      "valor 62\n",
      "valor 55\n",
      "valor 56\n",
      "mayor valor con while 83\n"
     ]
    }
   ],
   "source": [
    "\n",
    "# todo:\n",
    "\n",
    "from random import randint\n",
    "random_numbers =[randint(1, 100) for i in range(5)]\n",
    "\n",
    "mayor_valor_con_for = 0\n",
    "for valor in random_numbers:\n",
    "     if valor > mayor_valor:\n",
    "          mayor_valor = valor\n",
    "     print('valor', valor)\n",
    "print('mayor valor con for', mayor_valor)\n",
    "\n",
    "\n",
    "mayor_valor_con_while = 0\n",
    "i = 0\n",
    "while i < len(random_numbers):\n",
    "     if random_numbers[i] > mayor_valor_con_while:\n",
    "          mayor_valor_con_while = random_numbers[i]\n",
    "     print('valor', random_numbers[i])\n",
    "     i += 1\n",
    "print('mayor valor con while', mayor_valor_con_while)"
   ]
  },
  {
   "cell_type": "markdown",
   "id": "70a24b97",
   "metadata": {},
   "source": [
    "### Actividad 3:\n",
    "Contar cuántas veces aparece un número específico. Utiliza estructuras repetitivas para la resolucion de este ejercicio. "
   ]
  },
  {
   "cell_type": "code",
   "execution_count": null,
   "id": "a9c8ebc7",
   "metadata": {},
   "outputs": [
    {
     "name": "stdout",
     "output_type": "stream",
     "text": [
      "lista [61, 105, 73, 140, 144, 58, 73, 135, 81, 69, 94, 166, 190, 121, 6, 60, 57, 174, 199, 52]\n",
      "numero 61 veces que apareció 1\n",
      "numero 105 veces que apareció 1\n",
      "numero 73 veces que apareció 2\n",
      "numero 140 veces que apareció 1\n",
      "numero 144 veces que apareció 1\n",
      "numero 58 veces que apareció 1\n",
      "numero 135 veces que apareció 1\n",
      "numero 81 veces que apareció 1\n",
      "numero 69 veces que apareció 1\n",
      "numero 94 veces que apareció 1\n",
      "numero 166 veces que apareció 1\n",
      "numero 190 veces que apareció 1\n",
      "numero 121 veces que apareció 1\n",
      "numero 6 veces que apareció 1\n",
      "numero 60 veces que apareció 1\n",
      "numero 57 veces que apareció 1\n",
      "numero 174 veces que apareció 1\n",
      "numero 199 veces que apareció 1\n",
      "numero 52 veces que apareció 1\n"
     ]
    }
   ],
   "source": [
    "\n",
    "# todo:\n",
    "\n",
    "lists = [randint(1, 200) for i in range(20)]\n",
    "\n",
    "counter = {}\n",
    "\n",
    "for i in lists:\n",
    "     if i in counter:\n",
    "          counter[i] += 1\n",
    "     else:\n",
    "          counter[i] = 1\n",
    "          \n",
    "print('lista', lists)\n",
    "\n",
    "for key, valor in counter.items():\n",
    "     print('numero', key, 'veces que apareció', valor)\n"
   ]
  },
  {
   "cell_type": "markdown",
   "id": "b8dac397",
   "metadata": {},
   "source": [
    "### Actividad 4: \n",
    "Invertir una lista sin usar reverse() ni [::-1]"
   ]
  },
  {
   "cell_type": "code",
   "execution_count": 45,
   "id": "d04fd492",
   "metadata": {},
   "outputs": [
    {
     "name": "stdout",
     "output_type": "stream",
     "text": [
      "lista [45, 42, 50, 47, 26, 48, 40, 28]\n",
      "lista invertida [28, 40, 48, 26, 47, 50, 42, 45]\n"
     ]
    }
   ],
   "source": [
    "\n",
    "# todo:\n",
    "\n",
    "lists_two = [randint(1, 50) for i in range(8)]\n",
    "reversed_lists_two = []\n",
    "i = 1\n",
    "while i < len(lists_two)+1:\n",
    "     reversed_lists_two.append( lists_two[-abs(i)])\n",
    "     i += 1\n",
    "\n",
    "print('lista', lists_two)\n",
    "print('lista invertida', reversed_lists_two)"
   ]
  },
  {
   "cell_type": "markdown",
   "id": "8889d0f2",
   "metadata": {},
   "source": [
    "### Actividad 5:\n",
    "Sumar los elementos de dos listas posición por posición, utilizando solo bucles repetititivos (for,while)."
   ]
  },
  {
   "cell_type": "code",
   "execution_count": 53,
   "id": "bc0ec844",
   "metadata": {},
   "outputs": [
    {
     "name": "stdout",
     "output_type": "stream",
     "text": [
      "suma de listas [3, 7, 11, 16, 18]\n",
      "suma total 55\n"
     ]
    }
   ],
   "source": [
    "\n",
    "# todo:\n",
    "\n",
    "lists_one = [2, 4, 6, 7, 8]\n",
    "lists_two = [1, 3, 5, 9, 10]\n",
    "\n",
    "suma_of_lists = []\n",
    "suma_total = 0\n",
    "for i in range(len(lists_one)):\n",
    "    suma_of_lists.append(lists_one[i] + lists_two[i])\n",
    "    suma_total += suma_of_lists[i]\n",
    "\n",
    "print('suma de listas', suma_of_lists)\n",
    "print('suma total', suma_total)"
   ]
  },
  {
   "cell_type": "markdown",
   "id": "8ce33e6b",
   "metadata": {},
   "source": [
    "### Actividad 6:\n",
    "\n",
    "Escribir un programa que almacene el abecedario en una lista, elimine de la lista las letras que ocupen posiciones múltiplos de 3, y muestre por pantalla la lista resultante."
   ]
  },
  {
   "cell_type": "code",
   "execution_count": null,
   "id": "b07326e2",
   "metadata": {},
   "outputs": [
    {
     "name": "stdout",
     "output_type": "stream",
     "text": [
      "Lista resultante: ['a', 'b', 'd', 'e', 'g', 'h', 'j', 'k', 'm', 'n', 'p', 'q', 's', 't', 'v', 'w', 'y', 'z']\n"
     ]
    }
   ],
   "source": [
    "\n",
    "# todo:\n",
    "\n",
    "abecedario = list(\"abcdefghijklmnopqrstuvwxyz\")\n",
    "\n",
    "\n",
    "resultado = [letra for i, letra in enumerate(abecedario, start=1) if i % 3 != 0]\n",
    "\n",
    "\n",
    "print(\"Lista resultante:\", resultado)"
   ]
  },
  {
   "cell_type": "markdown",
   "id": "5bfeb4b5",
   "metadata": {},
   "source": [
    "### Actividad 7:\n",
    "\n",
    "Escribir un programa que pida al usuario una palabra y muestre por pantalla si es un palíndromo (una palabra que se escribe de la misma forma al derecho y al reves)."
   ]
  },
  {
   "cell_type": "code",
   "execution_count": 56,
   "id": "2365afcc",
   "metadata": {},
   "outputs": [
    {
     "name": "stdout",
     "output_type": "stream",
     "text": [
      "Es un palíndromo\n"
     ]
    }
   ],
   "source": [
    "\n",
    "# todo:\n",
    "palabra = input(\"Escribe una palabra: \")\n",
    "palabra_invertida = palabra[::-1]\n",
    "if palabra == palabra_invertida:\n",
    "    print(\"Es un palíndromo\")\n",
    "else:\n",
    "    print(\"No es un palíndromo\")"
   ]
  },
  {
   "cell_type": "markdown",
   "id": "ed8b51be",
   "metadata": {},
   "source": [
    "### Actividad 8:\n",
    "\n",
    "Teniendo en cuenta el conjunto 1 y el conjunto 2, sin usar el operador de intersección &, calcular la intersección de dichos conjuntos."
   ]
  },
  {
   "cell_type": "code",
   "execution_count": 57,
   "id": "21a434b9",
   "metadata": {},
   "outputs": [
    {
     "name": "stdout",
     "output_type": "stream",
     "text": [
      "intersección 3\n",
      "intersección 4\n"
     ]
    }
   ],
   "source": [
    "conjunto1 = {1, 2, 3, 4}\n",
    "conjunto2 = {3, 4, 5, 6}\n",
    "# todo:\n",
    "for i in conjunto1:\n",
    "     if i in conjunto2:\n",
    "          print('intersección', i)"
   ]
  },
  {
   "cell_type": "markdown",
   "id": "31b460dc",
   "metadata": {},
   "source": [
    "### Actividad 9:\n",
    "Eliminar duplicados de una lista usando un set."
   ]
  },
  {
   "cell_type": "code",
   "execution_count": 58,
   "id": "0ef62008",
   "metadata": {},
   "outputs": [
    {
     "name": "stdout",
     "output_type": "stream",
     "text": [
      "lista sin duplicados {1, 2, 3, 4, 5}\n"
     ]
    }
   ],
   "source": [
    "\n",
    "# todo:\n",
    "lista = [1, 2, 2, 3, 4, 4, 5]\n",
    "lista_unica = set(lista)\n",
    "print('lista sin duplicados', lista_unica)\n"
   ]
  },
  {
   "cell_type": "markdown",
   "id": "075f1f2c",
   "metadata": {},
   "source": [
    "### Actividad 10:\n",
    "\n",
    "Escribir un programa que cree 2 matrices y realice su multiplicacion."
   ]
  },
  {
   "cell_type": "code",
   "execution_count": null,
   "id": "4c1fd0e1",
   "metadata": {},
   "outputs": [
    {
     "name": "stdout",
     "output_type": "stream",
     "text": [
      "Matriz 1:\n",
      "[4, 10, 9]\n",
      "[1, 6, 3]\n",
      "[10, 6, 4]\n",
      "\n",
      "Matriz 2:\n",
      "[10, 6, 9]\n",
      "[1, 9, 5]\n",
      "[10, 10, 7]\n",
      "\n",
      "Resultado de la multiplicación:\n",
      "[140, 204, 149]\n",
      "[46, 90, 60]\n",
      "[146, 154, 148]\n"
     ]
    }
   ],
   "source": [
    "import random\n",
    "\n",
    "\n",
    "matris1 = [[random.randint(1, 10) for i in range(3)] for j in range(3)]\n",
    "matris2 = [[random.randint(1, 10) for i in range(3)] for j in range(3)]\n",
    "\n",
    "resultado = [[0 for _ in range(3)] for _ in range(3)]\n",
    "\n",
    "# Multiplicar las matrices\n",
    "for i in range(3):  \n",
    "    for j in range(3):  \n",
    "        for k in range(3): \n",
    "            resultado[i][j] += matris1[i][k] * matris2[k][j]\n",
    "\n",
    "\n",
    "# Imprimir las matrices y el resultado\n",
    "print(\"Matriz 1:\")\n",
    "for fila in matris1:\n",
    "    print(fila)\n",
    "\n",
    "print(\"\\nMatriz 2:\")\n",
    "for fila in matris2:\n",
    "    print(fila)\n",
    "\n",
    "print(\"\\nResultado de la multiplicación:\")\n",
    "for fila in resultado:\n",
    "    print(fila)"
   ]
  }
 ],
 "metadata": {
  "kernelspec": {
   "display_name": "Python 3",
   "language": "python",
   "name": "python3"
  },
  "language_info": {
   "codemirror_mode": {
    "name": "ipython",
    "version": 3
   },
   "file_extension": ".py",
   "mimetype": "text/x-python",
   "name": "python",
   "nbconvert_exporter": "python",
   "pygments_lexer": "ipython3",
   "version": "3.13.2"
  }
 },
 "nbformat": 4,
 "nbformat_minor": 5
}
